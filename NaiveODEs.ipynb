{
 "cells": [
  {
   "cell_type": "code",
   "execution_count": 1,
   "metadata": {},
   "outputs": [
    {
     "name": "stderr",
     "output_type": "stream",
     "text": [
      "/home/raroog/anaconda3/lib/python3.6/site-packages/h5py/__init__.py:34: FutureWarning: Conversion of the second argument of issubdtype from `float` to `np.floating` is deprecated. In future, it will be treated as `np.float64 == np.dtype(float).type`.\n",
      "  from ._conv import register_converters as _register_converters\n"
     ]
    }
   ],
   "source": [
    "import tensorflow as tf\n",
    "import numpy as np\n",
    "import matplotlib.pyplot as plt\n",
    "%matplotlib inline"
   ]
  },
  {
   "cell_type": "markdown",
   "metadata": {},
   "source": [
    "# Solving simple differential equations with naive optimization\n",
    "\n",
    "In this notebook, we investigate how does the optimization of the loss defined by sum of unsupervised minimalization of the equation and by supervised optimization for MSE for the boundary conditions\n",
    "$$Loss(N)=\\sum_i \\left(\\Delta\\Psi(N(x_i))+E\\Psi(N(x_i))\\right)^2 + \\sum_k (\\Psi(N(x_k))-C_k)^2$$\n",
    "works for simple ODEs.\n",
    "\n",
    "This work is a mixture of methods and examples from\n",
    "  1. Lagaris, I., Likas, A., & Fotiadis, D. 1997, Computer Physics Communications,104, 1\n",
    "  1. Shirvany, et. al., \"Numerical solution of the nonlinear Schrodinger equation by feedforward neural networks.\""
   ]
  },
  {
   "cell_type": "markdown",
   "metadata": {},
   "source": [
    "We define our model by"
   ]
  },
  {
   "cell_type": "code",
   "execution_count": 2,
   "metadata": {
    "collapsed": true
   },
   "outputs": [],
   "source": [
    "class Solution(tf.keras.models.Model):\n",
    "  def __init__(self, n_i, n_h, n_o=2, activation='sigmoid'):\n",
    "    super(Solution, self).__init__()\n",
    "    \n",
    "    # Dimension of all the layers\n",
    "    self.n_i = n_i\n",
    "    self.n_h = n_h\n",
    "    self.n_o = n_o\n",
    "    \n",
    "    # Shallow network\n",
    "    # Hidden layer\n",
    "    self.hidden_layer = tf.keras.layers.Dense(units=n_h, activation=activation)\n",
    "    # Output layer\n",
    "    self.output_layer = tf.keras.layers.Dense(units=n_o, activation='linear')\n",
    "    \n",
    "  def call(self, X):\n",
    "    # Conversion to a tensor\n",
    "    X = tf.convert_to_tensor(X)\n",
    "    \n",
    "    # Simple Shallow Network Response\n",
    "    response = self.hidden_layer(X)\n",
    "    response = self.output_layer(response)\n",
    "    \n",
    "    response = tf.math.reduce_prod(response, axis=1)\n",
    "    \n",
    "    return response\n",
    "  \n",
    "  def train(self, X, loss_function, epochs, conditions, eigen_value=None, verbose=True,\n",
    "            message_frequency=1, learning_rate=0.1, boundary_multiplier=10,\n",
    "            optimizer_name='Adam'):\n",
    "    \n",
    "    # Checking for the right parameters\n",
    "    if not isinstance(epochs, int) or epochs < 1:\n",
    "      raise Exception('epochs parameter should be a positive integer.')\n",
    "    if not isinstance(message_frequency, int) or message_frequency < 1:\n",
    "      raise Exception(\n",
    "                'message_frequency parameter should be a positive integer.')\n",
    "      \n",
    "    # Choosing the optimizers\n",
    "    optimizer = None\n",
    "    if optimizer_name == 'Adam':\n",
    "      optimizer = tf.keras.optimizers.Adam(learning_rate=learning_rate)\n",
    "    elif optimizer_name == 'SGD':\n",
    "      optimizer = tf.keras.optimizers.SGD(learning_rate=learning_rate)\n",
    "    elif optimizer_name == 'Adagrad':\n",
    "      optimizer = tf.keras.optimizers.Adagrad(learning_rate=learning_rate)\n",
    "    \n",
    "    def loss_boundary(network, conditions):\n",
    "      loss = tf.constant(0., shape=(1,), dtype='float64')\n",
    "      for condition in conditions:\n",
    "        X = tf.constant(condition['value'], shape=(1,1), dtype='float64')\n",
    "        boundary_response = None\n",
    "        if condition['type'] == 'dirichlet':\n",
    "          boundary_response = network(X)\n",
    "        elif condition['type'] == 'neuman':\n",
    "          with tf.GradientTape() as tape:\n",
    "            tape.watch(X)\n",
    "            response = network(X)\n",
    "          boundary_response = tape.gradient(response, X)\n",
    "        else:\n",
    "          raise Exception('Wrong type of condition.')\n",
    "        boundary_response = tf.reshape(boundary_response, shape=(-1,))\n",
    "        boundary_value = condition['function'](X)\n",
    "        boundary_value = tf.reshape(boundary_value, shape=(-1,))\n",
    "        loss += (boundary_response - boundary_value) ** 2\n",
    "      loss = boundary_multiplier*tf.math.reduce_sum(loss)\n",
    "      return loss\n",
    "\n",
    "    # Single train step function for the unsupervised equation part\n",
    "    @tf.function\n",
    "    def train_step(X, conditions, eigen_value):\n",
    "      with tf.GradientTape() as tape:\n",
    "        loss = loss_function(self, X, eigen_value)\n",
    "      gradients = tape.gradient(loss, self.trainable_variables)\n",
    "      optimizer.apply_gradients(\n",
    "                  zip(gradients, self.trainable_variables))\n",
    "      with tf.GradientTape() as tape2:\n",
    "        loss = loss_boundary(self, conditions)\n",
    "      gradients = tape2.gradient(loss, self.trainable_variables)\n",
    "      optimizer.apply_gradients(\n",
    "                  zip(gradients, self.trainable_variables))\n",
    "      \n",
    "    # Training for a given number of epochs\n",
    "    for epoch in range(epochs):\n",
    "      train_step(X, conditions, eigen_value)\n",
    "      equation_loss = loss_function(self, X, eigen_value)\n",
    "      boundary_loss = loss_boundary(self, conditions)\n",
    "      if verbose and(epoch+1) % message_frequency == 0:\n",
    "        print(f'Epoch: {epoch+1} Loss equation: \\\n",
    "              {equation_loss.numpy()} \\\n",
    "              Loss boundary: {boundary_loss.numpy()}')"
   ]
  },
  {
   "cell_type": "markdown",
   "metadata": {},
   "source": [
    "# Example 1\n",
    "$$\\frac{d}{dx}\\Psi+(x+\\frac{1+3x^2}{1+x+x^3})\\Psi=x^3+2x+x^2\\frac{1+3x^2}{1+x+x^3}$$\n",
    "With boundary initial condition $\\Psi(0)=1$ and domain $x\\in[0,1]$"
   ]
  },
  {
   "cell_type": "code",
   "execution_count": 3,
   "metadata": {
    "collapsed": true
   },
   "outputs": [],
   "source": [
    "def constant(c):\n",
    "  def func(X):\n",
    "    return tf.constant(c, dtype='float64', shape=X.shape)\n",
    "  return func\n",
    "inits = [{'variable':0, 'value':0, 'type':'dirichlet',\n",
    "        'function':constant(1)}]"
   ]
  },
  {
   "cell_type": "markdown",
   "metadata": {},
   "source": [
    "Defining the domain - train and test input sets."
   ]
  },
  {
   "cell_type": "code",
   "execution_count": 4,
   "metadata": {
    "collapsed": true
   },
   "outputs": [],
   "source": [
    "X_train = np.arange(0, 1.1, 0.01) + 1e-8\n",
    "X_train = X_train.reshape(-1,1)\n",
    "X_test = np.arange(0, 1.1, 0.01) + 1e-8\n",
    "X_test = X_test.reshape(-1,1) "
   ]
  },
  {
   "cell_type": "markdown",
   "metadata": {},
   "source": [
    "The loss for this equation."
   ]
  },
  {
   "cell_type": "code",
   "execution_count": 5,
   "metadata": {
    "collapsed": true
   },
   "outputs": [],
   "source": [
    "def diff_loss(network, inputs, *args):\n",
    "  # Compute the gradients\n",
    "  with tf.GradientTape() as tape:\n",
    "    inputs = tf.convert_to_tensor(inputs)\n",
    "    tape.watch(inputs)\n",
    "    response = network(inputs)\n",
    "  grads = tf.reshape(tape.gradient(response, inputs), shape=(-1,))\n",
    "  X = tf.reshape(inputs, shape=(-1,))\n",
    "  \n",
    "  # Compute the loss\n",
    "  loss = tf.square(grads + tf.multiply(X + (1 + 3*X**2)/(1+X+X**3), response)\n",
    "          - X**3 -2*X - X**2*(1 + 3*X**2)/(1+X+X**3))\n",
    "  \n",
    "  return tf.math.reduce_mean(loss)"
   ]
  },
  {
   "cell_type": "code",
   "execution_count": 6,
   "metadata": {
    "collapsed": true
   },
   "outputs": [],
   "source": [
    "solution1 = Solution(n_i=1, n_h=50, n_o=1)"
   ]
  },
  {
   "cell_type": "code",
   "execution_count": 7,
   "metadata": {
    "scrolled": true
   },
   "outputs": [
    {
     "name": "stderr",
     "output_type": "stream",
     "text": [
      "WARNING: Logging before flag parsing goes to stderr.\n",
      "W0520 20:45:03.787923 140617817835264 deprecation.py:323] From /home/raroog/anaconda3/lib/python3.6/site-packages/tensorflow/python/ops/math_grad.py:167: setdiff1d (from tensorflow.python.ops.array_ops) is deprecated and will be removed after 2018-11-30.\n",
      "Instructions for updating:\n",
      "This op will be removed after the deprecation date. Please switch to tf.sets.difference().\n"
     ]
    },
    {
     "name": "stdout",
     "output_type": "stream",
     "text": [
      "Epoch: 100 Loss equation:               0.08551605829873694               Loss boundary: 4.287482272688538e-06\n",
      "Epoch: 200 Loss equation:               0.01166662610505679               Loss boundary: 4.5845227168540023e-10\n",
      "Epoch: 300 Loss equation:               0.01945044111708565               Loss boundary: 0.0032213367332159263\n",
      "Epoch: 400 Loss equation:               0.0072861914905496               Loss boundary: 3.324889261980006e-11\n",
      "Epoch: 500 Loss equation:               0.004365871156361844               Loss boundary: 1.2170067447195655e-10\n",
      "Epoch: 600 Loss equation:               0.003178481916886731               Loss boundary: 2.462702448423056e-10\n",
      "Epoch: 700 Loss equation:               0.011999232230604952               Loss boundary: 2.2154594098663248e-05\n",
      "Epoch: 800 Loss equation:               0.004314730644535419               Loss boundary: 2.9774275518178526e-10\n",
      "Epoch: 900 Loss equation:               0.002232556006678643               Loss boundary: 8.008197474798077e-10\n",
      "Epoch: 1000 Loss equation:               0.0014097804954956528               Loss boundary: 8.64022229479975e-10\n"
     ]
    }
   ],
   "source": [
    "solution1.train(X=X_train, loss_function=diff_loss, conditions=inits,\n",
    "                verbose=True, epochs=1000, message_frequency=100, learning_rate=0.1)"
   ]
  },
  {
   "cell_type": "code",
   "execution_count": 8,
   "metadata": {},
   "outputs": [
    {
     "data": {
      "image/png": "[encoded data removed]",
      "text/plain": [
       "<matplotlib.figure.Figure at 0x7fe3a87580b8>"
      ]
     },
     "metadata": {},
     "output_type": "display_data"
    }
   ],
   "source": [
    "pred_train = solution1.call(tf.convert_to_tensor(X_train, dtype='float64')).numpy()\n",
    "plt.scatter(X_train, pred_train, c='r', label='Numerical - Training', marker='+', s=30)\n",
    "# plt.plot(X_train, pred_train)\n",
    "plt.plot(X_test, np.exp(-0.5*X_test**2)/(1+X_test+X_test**3) + X_test**2, c='b', label='Analytic')\n",
    "plt.legend()\n",
    "plt.show()"
   ]
  },
  {
   "cell_type": "markdown",
   "metadata": {},
   "source": [
    "## Example 2\n",
    "\n",
    "$\\frac{d}{dx}\\Psi+\\frac{1}{5}\\Psi=\\exp(-\\frac{x}{5})\\cos(x)$\n",
    "\n",
    "With boundary initial condition $\\Psi(0)=0$ and domain $x\\in[0,2]$"
   ]
  },
  {
   "cell_type": "code",
   "execution_count": 9,
   "metadata": {
    "collapsed": true
   },
   "outputs": [],
   "source": [
    "inits2 = [{'variable':0, 'value':0, 'type':'dirichlet',\n",
    "        'function':constant(0)}]"
   ]
  },
  {
   "cell_type": "markdown",
   "metadata": {},
   "source": [
    "Defining the domain - train and test input sets."
   ]
  },
  {
   "cell_type": "code",
   "execution_count": 10,
   "metadata": {
    "collapsed": true
   },
   "outputs": [],
   "source": [
    "X_train2 = np.arange(0, 2., 0.2) + 1e-8\n",
    "X_train2 = X_train2.reshape(-1,1)\n",
    "X_test2 = np.arange(0, 2., 0.01) + 1e-8\n",
    "X_test2 = X_test2.reshape(-1,1) "
   ]
  },
  {
   "cell_type": "markdown",
   "metadata": {},
   "source": [
    "The loss for this equation."
   ]
  },
  {
   "cell_type": "code",
   "execution_count": 11,
   "metadata": {
    "collapsed": true
   },
   "outputs": [],
   "source": [
    "def diff_loss2(network, inputs, *args):\n",
    "  with tf.GradientTape() as tape:\n",
    "    inputs = tf.convert_to_tensor(inputs)\n",
    "    tape.watch(inputs)\n",
    "    response = network(inputs)\n",
    "    \n",
    "  grads = tape.gradient(response, inputs)\n",
    "  delta = tf.reshape(grads, shape=(-1,))\n",
    "  \n",
    "  psi = tf.reshape(response, shape=(-1,))\n",
    "  \n",
    "  X = tf.reshape(inputs, shape=(-1,))\n",
    "  \n",
    "  loss = tf.square(delta + 0.2 * psi\n",
    "          - tf.exp( -0.2 * X) * tf.cos(X))\n",
    "  return tf.math.reduce_mean(loss)"
   ]
  },
  {
   "cell_type": "code",
   "execution_count": 20,
   "metadata": {
    "collapsed": true
   },
   "outputs": [],
   "source": [
    "solution2 = Solution(n_i=1, n_h=50, n_o=1)"
   ]
  },
  {
   "cell_type": "code",
   "execution_count": 21,
   "metadata": {
    "scrolled": true
   },
   "outputs": [
    {
     "name": "stdout",
     "output_type": "stream",
     "text": [
      "Epoch: 100 Loss equation:               0.0038179035709227844               Loss boundary: 7.168844146407709e-10\n",
      "Epoch: 200 Loss equation:               0.0028769649220968456               Loss boundary: 1.688984466127529e-08\n",
      "Epoch: 300 Loss equation:               0.0023552818297210712               Loss boundary: 7.04370454929101e-09\n",
      "Epoch: 400 Loss equation:               0.0019148569239617421               Loss boundary: 2.2606600914601253e-09\n",
      "Epoch: 500 Loss equation:               0.001558448111439258               Loss boundary: 3.75495114272431e-10\n",
      "Epoch: 600 Loss equation:               0.0012816771673500988               Loss boundary: 3.273249937553499e-12\n",
      "Epoch: 700 Loss equation:               0.014159437132047153               Loss boundary: 0.03602022124502273\n",
      "Epoch: 800 Loss equation:               0.002005554744722617               Loss boundary: 8.49822671855588e-08\n",
      "Epoch: 900 Loss equation:               0.0010008336483976446               Loss boundary: 2.520154125065182e-08\n",
      "Epoch: 1000 Loss equation:               0.0006587483401644777               Loss boundary: 8.900051946791912e-09\n"
     ]
    }
   ],
   "source": [
    "solution2.train(X=X_train2, loss_function=diff_loss2, conditions=inits2,\n",
    "                verbose=True, epochs=1000, message_frequency=100, learning_rate=0.1)"
   ]
  },
  {
   "cell_type": "code",
   "execution_count": 22,
   "metadata": {},
   "outputs": [
    {
     "data": {
      "image/png": "[encoded data removed]",
      "text/plain": [
       "<matplotlib.figure.Figure at 0x7fe3d011fa58>"
      ]
     },
     "metadata": {},
     "output_type": "display_data"
    }
   ],
   "source": [
    "pred_train2 = solution2.call(tf.convert_to_tensor(X_train2, dtype='float64')).numpy()\n",
    "plt.scatter(X_train2, pred_train2, c='r', label='Numerical - Training', marker='+', s=30)\n",
    "plt.plot(X_test2,  np.exp(-0.2*X_test2)*np.sin(X_test2), c='b', label='Analytic')\n",
    "plt.legend()\n",
    "plt.show()"
   ]
  },
  {
   "cell_type": "markdown",
   "metadata": {},
   "source": [
    "## Example 3\n",
    "\n",
    "$\\frac{d^2}{dx^2}\\Psi+\\frac{1}{5}\\frac{d}{dx}\\Psi+\\Psi=-\\frac{1}{5}\\exp(-\\frac{x}{5})\\cos(x)$\n",
    "\n",
    "With boundary initial condition $\\Psi(0)=0$, $\\frac{d}{dx}\\Psi(0)=1$ and domain $x\\in[0,2]$"
   ]
  },
  {
   "cell_type": "code",
   "execution_count": 15,
   "metadata": {
    "collapsed": true
   },
   "outputs": [],
   "source": [
    "inits3 = [{'variable':0, 'value':0, 'type':'dirichlet',\n",
    "        'function':constant(0)},\n",
    "        {'variable':0, 'value':0, 'type':'neuman',\n",
    "        'function':constant(1)}]"
   ]
  },
  {
   "cell_type": "markdown",
   "metadata": {},
   "source": [
    "The loss for this equation."
   ]
  },
  {
   "cell_type": "code",
   "execution_count": 16,
   "metadata": {
    "collapsed": true
   },
   "outputs": [],
   "source": [
    "def diff_loss3(network, inputs, *args):\n",
    "  # Compute the gradients\n",
    "  with tf.GradientTape() as tape2:\n",
    "    with tf.GradientTape() as tape:\n",
    "      inputs = tf.convert_to_tensor(inputs)\n",
    "      tape.watch(inputs)\n",
    "      tape2.watch(inputs)\n",
    "      response = network(inputs)  \n",
    "    grads = tape.gradient(response, inputs)\n",
    "  laplace = tape2.gradient(grads, inputs)\n",
    "  \n",
    "  # Compute the loss\n",
    "  nabla = tf.reshape(laplace, shape=(-1,))\n",
    "  delta = tf.reshape(grads, shape=(-1,))\n",
    "  psi = tf.reshape(response, shape=(-1,))\n",
    "  X = tf.reshape(inputs, shape=(-1,))\n",
    "  loss = tf.square(nabla + 0.2*delta + psi + 0.2*tf.exp( -0.2 * X) * tf.cos(X))\n",
    "  return tf.math.reduce_mean(loss)"
   ]
  },
  {
   "cell_type": "code",
   "execution_count": 17,
   "metadata": {
    "collapsed": true
   },
   "outputs": [],
   "source": [
    "solution3 = Solution(n_i=1, n_h=50, n_o=1)"
   ]
  },
  {
   "cell_type": "code",
   "execution_count": 18,
   "metadata": {
    "scrolled": true
   },
   "outputs": [
    {
     "name": "stdout",
     "output_type": "stream",
     "text": [
      "Epoch: 100 Loss equation:               0.07626097266372997               Loss boundary: 0.0016039164145613077\n",
      "Epoch: 200 Loss equation:               0.026857427547025588               Loss boundary: 0.00023367474358328285\n",
      "Epoch: 300 Loss equation:               0.010063568728982949               Loss boundary: 3.760130168753619e-05\n",
      "Epoch: 400 Loss equation:               0.0038539376861869605               Loss boundary: 6.459670963153556e-06\n",
      "Epoch: 500 Loss equation:               0.001396687463558722               Loss boundary: 1.088582967106492e-06\n",
      "Epoch: 600 Loss equation:               0.10814284700148095               Loss boundary: 1.3868787859645746\n",
      "Epoch: 700 Loss equation:               0.00020999287884687864               Loss boundary: 4.890671461417493e-08\n",
      "Epoch: 800 Loss equation:               8.869266122154793e-05               Loss boundary: 8.081358976563915e-09\n",
      "Epoch: 900 Loss equation:               4.5758975112262316e-05               Loss boundary: 3.2208795885474243e-09\n",
      "Epoch: 1000 Loss equation:               2.869384003837431e-05               Loss boundary: 1.4422608500626908e-09\n"
     ]
    }
   ],
   "source": [
    "solution3.train(X=X_train2, loss_function=diff_loss3, conditions=inits3,\n",
    "                verbose=True, epochs=1000, message_frequency=100, learning_rate=0.1)"
   ]
  },
  {
   "cell_type": "code",
   "execution_count": 19,
   "metadata": {},
   "outputs": [
    {
     "data": {
      "image/png": "[encoded data removed]",
      "text/plain": [
       "<matplotlib.figure.Figure at 0x7fe3a83e6668>"
      ]
     },
     "metadata": {},
     "output_type": "display_data"
    }
   ],
   "source": [
    "pred_train3 = solution3.call(tf.convert_to_tensor(X_train2, dtype='float64')).numpy()\n",
    "plt.scatter(X_train2, pred_train3, c='r', label='Numerical - Training', marker='+', s=30)\n",
    "plt.plot(X_test2, np.exp(-0.2*X_test2)*np.sin(X_test2), c='b', label='Analytic')\n",
    "plt.legend()\n",
    "plt.show()"
   ]
  },
  {
   "cell_type": "code",
   "execution_count": null,
   "metadata": {
    "collapsed": true
   },
   "outputs": [],
   "source": []
  }
 ],
 "metadata": {
  "kernelspec": {
   "display_name": "Python 3",
   "language": "python",
   "name": "python3"
  },
  "language_info": {
   "codemirror_mode": {
    "name": "ipython",
    "version": 3
   },
   "file_extension": ".py",
   "mimetype": "text/x-python",
   "name": "python",
   "nbconvert_exporter": "python",
   "pygments_lexer": "ipython3",
   "version": "3.6.2"
  }
 },
 "nbformat": 4,
 "nbformat_minor": 2
}
